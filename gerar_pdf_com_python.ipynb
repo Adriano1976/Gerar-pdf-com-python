{
 "cells": [
  {
   "cell_type": "markdown",
   "metadata": {},
   "source": [
    "# <font color=blue><strong>Gerando Automaticamente PDFs com Python</strong></font>\n",
    "\n",
    "### Coraboração: Adriano Santos"
   ]
  },
  {
   "cell_type": "markdown",
   "metadata": {},
   "source": [
    "### <font color=orange><strong>Verificando a Versão da Linguagem Python</strong></font>"
   ]
  },
  {
   "cell_type": "markdown",
   "metadata": {},
   "source": [
    "* Esse código Python exibe a versão da linguagem Python que está sendo usada no ambiente do Jupyter Notebook. Ele importa a função python_version do módulo platform e, em seguida, imprime a versão do Python. Isso é útil para verificar a versão da linguagem e garantir que seu código seja compatível com essa versão específica."
   ]
  },
  {
   "cell_type": "code",
   "execution_count": 1,
   "metadata": {},
   "outputs": [
    {
     "name": "stdout",
     "output_type": "stream",
     "text": [
      "Versão da Linguagem Python Usada Neste Jupyter Notebook: 3.11.3\n"
     ]
    }
   ],
   "source": [
    "from platform import python_version\n",
    "print('Versão da Linguagem Python Usada Neste Jupyter Notebook:', python_version())"
   ]
  },
  {
   "cell_type": "markdown",
   "metadata": {},
   "source": [
    "### <font color=orange><strong>Desenvolvendo as entradas de dados</strong></font>"
   ]
  },
  {
   "cell_type": "markdown",
   "metadata": {},
   "source": [
    "* No código a seguir, está sendo utilizado Python para solicitar informações ao usuário. As entradas incluem o **nome_completo**, a **descrição do projeto**, o total de **horas_estimadas**, o **valor_hora** e o **prazo_estimado**. Esses dados são capturados por meio da função **input()**. O programa aguarda a inserção do usuário em cada etapa, armazenando as informações fornecidas em suas respectivas variáveis. Essa abordagem permite a interação dinâmica com o usuário, possibilitando a coleta de dados essenciais para o desenvolvimento do projeto."
   ]
  },
  {
   "cell_type": "code",
   "execution_count": 3,
   "metadata": {},
   "outputs": [],
   "source": [
    "nome_completo = input(\"Digite seu nome completo: \")\n",
    "projeto = input(\"Digite a descrição do projeto: \")\n",
    "horas_estimadas = input(\"Digite o total de horas estimadas: \")\n",
    "valor_hora = input(\"Digite o valor da hora trabalhada: \")\n",
    "prazo_estimado = input(\"Digite o prazo estimado: \")"
   ]
  },
  {
   "cell_type": "markdown",
   "metadata": {},
   "source": [
    "### <font color=orange><strong>Criando o cálculo do valor total estimado</strong></font>"
   ]
  },
  {
   "cell_type": "markdown",
   "metadata": {},
   "source": [
    "* No código a seguir, está sendo calculado o valor total estimado com base nas horas estimadas e no valor por hora fornecidos como entrada. A variável **horas_estimadas** e **valor_hora** são convertidas para inteiros, multiplicadas para obter o valor total, e o resultado é impresso com a função **print**. O código assume que as variáveis de entrada contêm valores numéricos válidos."
   ]
  },
  {
   "cell_type": "code",
   "execution_count": 4,
   "metadata": {},
   "outputs": [
    {
     "name": "stdout",
     "output_type": "stream",
     "text": [
      "7200\n"
     ]
    }
   ],
   "source": [
    "valor_total_estimado = int(horas_estimadas) * int(valor_hora)\n",
    "print(valor_total_estimado)"
   ]
  },
  {
   "cell_type": "markdown",
   "metadata": {},
   "source": [
    "### <font color=orange><strong>Gerando o PDF com o orçamento</strong></font>"
   ]
  },
  {
   "cell_type": "markdown",
   "metadata": {},
   "source": [
    "* No código a seguir, está sendo utilizado o pacote **fpdf** para manipulação de PDFs em Python. Primeiramente, é feita a instalação da biblioteca com o comando `%pip install fpdf`. Em seguida, o código importa a classe **FPDF** dessa biblioteca. Um objeto PDF é criado e configurado com parâmetros como tamanho e orientação da página. Posteriormente, são adicionados elementos como texto e imagens ao documento PDF. O resultado final é a geração de um arquivo PDF com base nas especificações fornecidas no código."
   ]
  },
  {
   "cell_type": "code",
   "execution_count": 14,
   "metadata": {},
   "outputs": [
    {
     "name": "stdout",
     "output_type": "stream",
     "text": [
      "Defaulting to user installation because normal site-packages is not writeableNote: you may need to restart the kernel to use updated packages.\n",
      "\n",
      "Requirement already satisfied: fpdf in c:\\users\\nilma ferreira\\appdata\\roaming\\python\\python311\\site-packages (1.7.2)\n"
     ]
    }
   ],
   "source": [
    "%pip install fpdf"
   ]
  },
  {
   "cell_type": "markdown",
   "metadata": {},
   "source": [
    "* No código a seguir, está sendo utilizado o módulo **pkgutil** em Python para verificar a presença de uma biblioteca. A função **check_library** recebe o nome da biblioteca como parâmetro e verifica se ela já está instalada usando a função **pkgutil.find_loader**. Se a biblioteca estiver presente, é exibida a mensagem indicando que a biblioteca já está instalada. Caso contrário, é exibida a mensagem informando que a biblioteca não está instalada, e em seguida, é realizada a instalação da biblioteca usando o comando **%pip install fpdf**. Neste exemplo, a biblioteca verificada é o **fpdf**."
   ]
  },
  {
   "cell_type": "code",
   "execution_count": 15,
   "metadata": {},
   "outputs": [
    {
     "name": "stdout",
     "output_type": "stream",
     "text": [
      "A biblioteca fpdf já está instalada.\n"
     ]
    }
   ],
   "source": [
    "import pkgutil\n",
    "\n",
    "def check_library(library_name):\n",
    "    if pkgutil.find_loader(library_name) is not None:\n",
    "        print(f\"A biblioteca {library_name} já está instalada.\")\n",
    "    else:\n",
    "        print(f\"A biblioteca {library_name} não está instalada.\")\n",
    "        %pip install fpdf\n",
    "\n",
    "check_library('fpdf')"
   ]
  },
  {
   "cell_type": "markdown",
   "metadata": {},
   "source": [
    "* No código a seguir, está sendo importada a biblioteca **FPDF**. Essa biblioteca é utilizada para a geração de documentos PDF em Python. O comando \"`from fpdf import FPDF`\" permite o acesso às funcionalidades oferecidas por essa biblioteca. É importante notar que a biblioteca FPDF é empregada para criar e manipular arquivos PDF, facilitando a geração dinâmica de documentos nesse formato por meio de código Python."
   ]
  },
  {
   "cell_type": "code",
   "execution_count": 16,
   "metadata": {},
   "outputs": [],
   "source": [
    "# importando a biblioteca\n",
    "from fpdf import FPDF"
   ]
  },
  {
   "cell_type": "markdown",
   "metadata": {},
   "source": [
    "### <font color=orange><strong>Criando um arquivo PDF</strong></font>"
   ]
  },
  {
   "cell_type": "markdown",
   "metadata": {},
   "source": [
    "* No código a seguir, está sendo utilizado o módulo **FPDF** em Python para criar um arquivo PDF. Um objeto PDF é inicializado com o nome **pdf**. Em seguida, uma nova página é adicionada com o método **add_page()**. A fonte do documento é definida como \"Arial\" usando **set_font()** da biblioteca FPDF. Este trecho é fundamental para configurar a estrutura inicial de um documento PDF simples."
   ]
  },
  {
   "cell_type": "code",
   "execution_count": 17,
   "metadata": {},
   "outputs": [],
   "source": [
    "pdf = FPDF()\n",
    "pdf.add_page()\n",
    "pdf.set_font(\"Arial\")"
   ]
  },
  {
   "cell_type": "markdown",
   "metadata": {},
   "source": [
    "### <font color=orange><strong>Inserindo os dados no PDF</strong></font>"
   ]
  },
  {
   "cell_type": "markdown",
   "metadata": {},
   "source": [
    "* No código a seguir, está sendo utilizado o Python com a biblioteca **pdf** para manipulação de arquivos PDF. Inicialmente, é inserida uma imagem de um template no documento PDF através da função **image**, onde o arquivo \"template.png\" é posicionado nas coordenadas (x=0, y=0). Em seguida, são inseridos dados específicos do projeto no PDF, como o nome do projeto (**projeto**), horas estimadas (**horas_estimadas**), valor da hora de trabalho (**valor_hora**), prazo estimado (**prazo_estimado**), e o valor total estimado (**valor_total_estimado**), convertido para string. Essas informações são posicionadas em coordenadas específicas no PDF utilizando a função **text**. Assim, o código gera um documento PDF com o template e os dados do projeto de forma estruturada."
   ]
  },
  {
   "cell_type": "code",
   "execution_count": 18,
   "metadata": {},
   "outputs": [],
   "source": [
    "# utilizando um template\n",
    "pdf.image(\"template.png\", x=0, y=0 )\n",
    "# inserindo os dados do projeto\n",
    "pdf.text(115, 145, projeto)\n",
    "pdf.text(115, 160, horas_estimadas)\n",
    "pdf.text(115, 175, valor_hora)\n",
    "pdf.text(115, 190, prazo_estimado)\n",
    "pdf.text(115, 205, str(valor_total_estimado))"
   ]
  },
  {
   "cell_type": "markdown",
   "metadata": {},
   "source": [
    "### <font color=orange><strong>Salvando o arquivo</strong></font>"
   ]
  },
  {
   "cell_type": "markdown",
   "metadata": {},
   "source": [
    "* No código a seguir, está sendo utilizado o módulo **pdf** para gerar um arquivo PDF com o nome do orçamento, onde a variável **nome_completo** é inserida dinamicamente. A função **output** é responsável por criar o arquivo com o nome fornecido, e em seguida, a mensagem \"Orçamento gerado com sucesso!\" é exibida no console, indicando a conclusão bem-sucedida do processo de geração do orçamento em PDF."
   ]
  },
  {
   "cell_type": "code",
   "execution_count": 19,
   "metadata": {},
   "outputs": [
    {
     "name": "stdout",
     "output_type": "stream",
     "text": [
      "Orçamento gerado com sucesso!\n"
     ]
    }
   ],
   "source": [
    "pdf.output(f\"Orçamento de {nome_completo}.pdf\")\n",
    "print(\"Orçamento gerado com sucesso!\")"
   ]
  }
 ],
 "metadata": {
  "kernelspec": {
   "display_name": "base",
   "language": "python",
   "name": "python3"
  },
  "language_info": {
   "codemirror_mode": {
    "name": "ipython",
    "version": 3
   },
   "file_extension": ".py",
   "mimetype": "text/x-python",
   "name": "python",
   "nbconvert_exporter": "python",
   "pygments_lexer": "ipython3",
   "version": "3.11.3"
  }
 },
 "nbformat": 4,
 "nbformat_minor": 2
}
